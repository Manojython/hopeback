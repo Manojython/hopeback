{
 "cells": [
  {
   "cell_type": "code",
   "execution_count": 1,
   "id": "e731a5c6",
   "metadata": {},
   "outputs": [],
   "source": [
    "import glob, os\n",
    "os.chdir(\"aclImdb/train/pos\")"
   ]
  },
  {
   "cell_type": "code",
   "execution_count": 2,
   "id": "f34fc0da",
   "metadata": {},
   "outputs": [],
   "source": [
    "positive_sentences = []\n",
    "for file in glob.glob(\"*.txt\"):\n",
    "    f = open(file, \"r\",encoding=\"utf8\")\n",
    "    content = (f.read())\n",
    "    positive_sentences.append(content)\n"
   ]
  },
  {
   "cell_type": "code",
   "execution_count": 3,
   "id": "01706f4a",
   "metadata": {},
   "outputs": [],
   "source": [
    "os.chdir(\"../neg\")"
   ]
  },
  {
   "cell_type": "code",
   "execution_count": 4,
   "id": "62623af4",
   "metadata": {},
   "outputs": [],
   "source": [
    "negative_sentences=[]\n",
    "for file in glob.glob(\"*.txt\"):\n",
    "    f = open(file, \"r\",encoding=\"utf8\")\n",
    "    content = (f.read())\n",
    "    negative_sentences.append(content)"
   ]
  },
  {
   "cell_type": "code",
   "execution_count": 5,
   "id": "5fc751cd",
   "metadata": {},
   "outputs": [
    {
     "data": {
      "text/plain": [
       "[[\"Story of a man who has unnatural feelings for a pig. Starts out with a opening scene that is a terrific example of absurd comedy. A formal orchestra audience is turned into an insane, violent mob by the crazy chantings of it's singers. Unfortunately it stays absurd the WHOLE time with no general narrative eventually making it just too off putting. Even those from the era should be turned off. The cryptic dialogue would make Shakespeare seem easy to a third grader. On a technical level it's better than you might think with some good cinematography by future great Vilmos Zsigmond. Future stars Sally Kirkland and Frederic Forrest can be seen briefly.\",\n",
       "  0],\n",
       " [\"Airport '77 starts as a brand new luxury 747 plane is loaded up with valuable paintings & such belonging to rich businessman Philip Stevens (James Stewart) who is flying them & a bunch of VIP's to his estate in preparation of it being opened to the public as a museum, also on board is Stevens daughter Julie (Kathleen Quinlan) & her son. The luxury jetliner takes off as planned but mid-air the plane is hi-jacked by the co-pilot Chambers (Robert Foxworth) & his two accomplice's Banker (Monte Markham) & Wilson (Michael Pataki) who knock the passengers & crew out with sleeping gas, they plan to steal the valuable cargo & land on a disused plane strip on an isolated island but while making his descent Chambers almost hits an oil rig in the Ocean & loses control of the plane sending it crashing into the sea where it sinks to the bottom right bang in the middle of the Bermuda Triangle. With air in short supply, water leaking in & having flown over 200 miles off course the problems mount for the survivor's as they await help with time fast running out...<br /><br />Also known under the slightly different tile Airport 1977 this second sequel to the smash-hit disaster thriller Airport (1970) was directed by Jerry Jameson & while once again like it's predecessors I can't say Airport '77 is any sort of forgotten classic it is entertaining although not necessarily for the right reasons. Out of the three Airport films I have seen so far I actually liked this one the best, just. It has my favourite plot of the three with a nice mid-air hi-jacking & then the crashing (didn't he see the oil rig?) & sinking of the 747 (maybe the makers were trying to cross the original Airport with another popular disaster flick of the period The Poseidon Adventure (1972)) & submerged is where it stays until the end with a stark dilemma facing those trapped inside, either suffocate when the air runs out or drown as the 747 floods or if any of the doors are opened & it's a decent idea that could have made for a great little disaster flick but bad unsympathetic character's, dull dialogue, lethargic set-pieces & a real lack of danger or suspense or tension means this is a missed opportunity. While the rather sluggish plot keeps one entertained for 108 odd minutes not that much happens after the plane sinks & there's not as much urgency as I thought there should have been. Even when the Navy become involved things don't pick up that much with a few shots of huge ships & helicopters flying about but there's just something lacking here. George Kennedy as the jinxed airline worker Joe Patroni is back but only gets a couple of scenes & barely even says anything preferring to just look worried in the background.<br /><br />The home video & theatrical version of Airport '77 run 108 minutes while the US TV versions add an extra hour of footage including a new opening credits sequence, many more scenes with George Kennedy as Patroni, flashbacks to flesh out character's, longer rescue scenes & the discovery or another couple of dead bodies including the navigator. While I would like to see this extra footage I am not sure I could sit through a near three hour cut of Airport '77. As expected the film has dated badly with horrible fashions & interior design choices, I will say no more other than the toy plane model effects aren't great either. Along with the other two Airport sequels this takes pride of place in the Razzie Award's Hall of Shame although I can think of lots of worse films than this so I reckon that's a little harsh. The action scenes are a little dull unfortunately, the pace is slow & not much excitement or tension is generated which is a shame as I reckon this could have been a pretty good film if made properly.<br /><br />The production values are alright if nothing spectacular. The acting isn't great, two time Oscar winner Jack Lemmon has said since it was a mistake to star in this, one time Oscar winner James Stewart looks old & frail, also one time Oscar winner Lee Grant looks drunk while Sir Christopher Lee is given little to do & there are plenty of other familiar faces to look out for too.<br /><br />Airport '77 is the most disaster orientated of the three Airport films so far & I liked the ideas behind it even if they were a bit silly, the production & bland direction doesn't help though & a film about a sunken plane just shouldn't be this boring or lethargic. Followed by The Concorde ... Airport '79 (1979).\",\n",
       "  0]]"
      ]
     },
     "execution_count": 5,
     "metadata": {},
     "output_type": "execute_result"
    }
   ],
   "source": [
    "positive_sentences=[[x,1] for x in positive_sentences]\n",
    "negative_sentences=[[x,0] for x in negative_sentences]\n",
    "negative_sentences[:2]"
   ]
  },
  {
   "cell_type": "code",
   "execution_count": 6,
   "id": "6aaee0ac",
   "metadata": {},
   "outputs": [],
   "source": [
    "os.chdir(\"../../\")"
   ]
  },
  {
   "cell_type": "code",
   "execution_count": 7,
   "id": "7889cd0e",
   "metadata": {},
   "outputs": [],
   "source": [
    "positive_sentences.extend(negative_sentences)\n"
   ]
  },
  {
   "cell_type": "code",
   "execution_count": 8,
   "id": "a1ac5ac6",
   "metadata": {},
   "outputs": [
    {
     "data": {
      "text/plain": [
       "[['Bromwell High is a cartoon comedy. It ran at the same time as some other programs about school life, such as \"Teachers\". My 35 years in the teaching profession lead me to believe that Bromwell High\\'s satire is much closer to reality than is \"Teachers\". The scramble to survive financially, the insightful students who can see right through their pathetic teachers\\' pomp, the pettiness of the whole situation, all remind me of the schools I knew and their students. When I saw the episode in which a student repeatedly tried to burn down the school, I immediately recalled ......... at .......... High. A classic line: INSPECTOR: I\\'m here to sack one of your teachers. STUDENT: Welcome to Bromwell High. I expect that many adults of my age think that Bromwell High is far fetched. What a pity that it isn\\'t!',\n",
       "  1],\n",
       " ['Homelessness (or Houselessness as George Carlin stated) has been an issue for years but never a plan to help those on the street that were once considered human who did everything from going to school, work, or vote for the matter. Most people think of the homeless as just a lost cause while worrying about things such as racism, the war on Iraq, pressuring kids to succeed, technology, the elections, inflation, or worrying if they\\'ll be next to end up on the streets.<br /><br />But what if you were given a bet to live on the streets for a month without the luxuries you once had from a home, the entertainment sets, a bathroom, pictures on the wall, a computer, and everything you once treasure to see what it\\'s like to be homeless? That is Goddard Bolt\\'s lesson.<br /><br />Mel Brooks (who directs) who stars as Bolt plays a rich man who has everything in the world until deciding to make a bet with a sissy rival (Jeffery Tambor) to see if he can live in the streets for thirty days without the luxuries; if Bolt succeeds, he can do what he wants with a future project of making more buildings. The bet\\'s on where Bolt is thrown on the street with a bracelet on his leg to monitor his every move where he can\\'t step off the sidewalk. He\\'s given the nickname Pepto by a vagrant after it\\'s written on his forehead where Bolt meets other characters including a woman by the name of Molly (Lesley Ann Warren) an ex-dancer who got divorce before losing her home, and her pals Sailor (Howard Morris) and Fumes (Teddy Wilson) who are already used to the streets. They\\'re survivors. Bolt isn\\'t. He\\'s not used to reaching mutual agreements like he once did when being rich where it\\'s fight or flight, kill or be killed.<br /><br />While the love connection between Molly and Bolt wasn\\'t necessary to plot, I found \"Life Stinks\" to be one of Mel Brooks\\' observant films where prior to being a comedy, it shows a tender side compared to his slapstick work such as Blazing Saddles, Young Frankenstein, or Spaceballs for the matter, to show what it\\'s like having something valuable before losing it the next day or on the other hand making a stupid bet like all rich people do when they don\\'t know what to do with their money. Maybe they should give it to the homeless instead of using it like Monopoly money.<br /><br />Or maybe this film will inspire you to help others.',\n",
       "  1]]"
      ]
     },
     "execution_count": 8,
     "metadata": {},
     "output_type": "execute_result"
    }
   ],
   "source": [
    "positive_sentences[:2]"
   ]
  },
  {
   "cell_type": "code",
   "execution_count": 9,
   "id": "6f72cf60",
   "metadata": {},
   "outputs": [],
   "source": [
    "sentences= [x[0] for x in positive_sentences]\n"
   ]
  },
  {
   "cell_type": "code",
   "execution_count": 10,
   "id": "1e0d5dad",
   "metadata": {},
   "outputs": [],
   "source": [
    "label = [x[1] for x in positive_sentences]"
   ]
  },
  {
   "cell_type": "code",
   "execution_count": 11,
   "id": "058d3774",
   "metadata": {},
   "outputs": [],
   "source": [
    "import pandas as pd\n",
    "import string\n",
    "import nltk\n",
    "import seaborn as sns\n",
    "import re\n",
    "import matplotlib.pyplot as plt\n",
    "from collections import Counter\n",
    "import numpy as np"
   ]
  },
  {
   "cell_type": "code",
   "execution_count": 12,
   "id": "40128747",
   "metadata": {},
   "outputs": [
    {
     "data": {
      "text/plain": [
       "(25000, 25000)"
      ]
     },
     "execution_count": 12,
     "metadata": {},
     "output_type": "execute_result"
    }
   ],
   "source": [
    "len(sentences),len(label)"
   ]
  },
  {
   "cell_type": "code",
   "execution_count": 13,
   "id": "86a1dfdb",
   "metadata": {},
   "outputs": [],
   "source": [
    "df = pd.DataFrame({\n",
    "    'text': sentences,\n",
    "    'target': label,\n",
    "})"
   ]
  },
  {
   "cell_type": "code",
   "execution_count": 14,
   "id": "77700a6b",
   "metadata": {},
   "outputs": [
    {
     "data": {
      "text/html": [
       "<div>\n",
       "<style scoped>\n",
       "    .dataframe tbody tr th:only-of-type {\n",
       "        vertical-align: middle;\n",
       "    }\n",
       "\n",
       "    .dataframe tbody tr th {\n",
       "        vertical-align: top;\n",
       "    }\n",
       "\n",
       "    .dataframe thead th {\n",
       "        text-align: right;\n",
       "    }\n",
       "</style>\n",
       "<table border=\"1\" class=\"dataframe\">\n",
       "  <thead>\n",
       "    <tr style=\"text-align: right;\">\n",
       "      <th></th>\n",
       "      <th>text</th>\n",
       "      <th>target</th>\n",
       "    </tr>\n",
       "  </thead>\n",
       "  <tbody>\n",
       "    <tr>\n",
       "      <th>0</th>\n",
       "      <td>Bromwell High is a cartoon comedy. It ran at t...</td>\n",
       "      <td>1</td>\n",
       "    </tr>\n",
       "    <tr>\n",
       "      <th>1</th>\n",
       "      <td>Homelessness (or Houselessness as George Carli...</td>\n",
       "      <td>1</td>\n",
       "    </tr>\n",
       "    <tr>\n",
       "      <th>2</th>\n",
       "      <td>Brilliant over-acting by Lesley Ann Warren. Be...</td>\n",
       "      <td>1</td>\n",
       "    </tr>\n",
       "    <tr>\n",
       "      <th>3</th>\n",
       "      <td>This is easily the most underrated film inn th...</td>\n",
       "      <td>1</td>\n",
       "    </tr>\n",
       "    <tr>\n",
       "      <th>4</th>\n",
       "      <td>This is not the typical Mel Brooks film. It wa...</td>\n",
       "      <td>1</td>\n",
       "    </tr>\n",
       "  </tbody>\n",
       "</table>\n",
       "</div>"
      ],
      "text/plain": [
       "                                                text  target\n",
       "0  Bromwell High is a cartoon comedy. It ran at t...       1\n",
       "1  Homelessness (or Houselessness as George Carli...       1\n",
       "2  Brilliant over-acting by Lesley Ann Warren. Be...       1\n",
       "3  This is easily the most underrated film inn th...       1\n",
       "4  This is not the typical Mel Brooks film. It wa...       1"
      ]
     },
     "execution_count": 14,
     "metadata": {},
     "output_type": "execute_result"
    }
   ],
   "source": [
    "df.head()"
   ]
  },
  {
   "cell_type": "code",
   "execution_count": 15,
   "id": "573910ae",
   "metadata": {},
   "outputs": [
    {
     "data": {
      "text/plain": [
       "Text(0, 0.5, 'Count')"
      ]
     },
     "execution_count": 15,
     "metadata": {},
     "output_type": "execute_result"
    },
    {
     "data": {
      "image/png": "[encoded data removed]",
      "text/plain": [
       "<Figure size 432x288 with 1 Axes>"
      ]
     },
     "metadata": {
      "needs_background": "light"
     },
     "output_type": "display_data"
    }
   ],
   "source": [
    "counts = df['target'].value_counts()\n",
    "sns.barplot(x=counts.index, y=counts)\n",
    "plt.xlabel('Target')\n",
    "plt.ylabel('Count')"
   ]
  },
  {
   "cell_type": "code",
   "execution_count": 16,
   "id": "43fff0f3",
   "metadata": {},
   "outputs": [
    {
     "data": {
      "text/html": [
       "<div>\n",
       "<style scoped>\n",
       "    .dataframe tbody tr th:only-of-type {\n",
       "        vertical-align: middle;\n",
       "    }\n",
       "\n",
       "    .dataframe tbody tr th {\n",
       "        vertical-align: top;\n",
       "    }\n",
       "\n",
       "    .dataframe thead th {\n",
       "        text-align: right;\n",
       "    }\n",
       "</style>\n",
       "<table border=\"1\" class=\"dataframe\">\n",
       "  <thead>\n",
       "    <tr style=\"text-align: right;\">\n",
       "      <th></th>\n",
       "      <th>text</th>\n",
       "      <th>target</th>\n",
       "    </tr>\n",
       "  </thead>\n",
       "  <tbody>\n",
       "    <tr>\n",
       "      <th>13066</th>\n",
       "      <td>Nathan Detroit runs illegal craps games for hi...</td>\n",
       "      <td>0</td>\n",
       "    </tr>\n",
       "    <tr>\n",
       "      <th>23981</th>\n",
       "      <td>This was the WORST movie I have ever seen! Mol...</td>\n",
       "      <td>0</td>\n",
       "    </tr>\n",
       "    <tr>\n",
       "      <th>8670</th>\n",
       "      <td>OK heres what I say: &lt;br /&gt;&lt;br /&gt;The movie was...</td>\n",
       "      <td>1</td>\n",
       "    </tr>\n",
       "    <tr>\n",
       "      <th>15734</th>\n",
       "      <td>hello boys and girls... this isn't your regula...</td>\n",
       "      <td>0</td>\n",
       "    </tr>\n",
       "    <tr>\n",
       "      <th>9082</th>\n",
       "      <td>Lin McAdam (James Stewart) wins a rifle, a Win...</td>\n",
       "      <td>1</td>\n",
       "    </tr>\n",
       "    <tr>\n",
       "      <th>...</th>\n",
       "      <td>...</td>\n",
       "      <td>...</td>\n",
       "    </tr>\n",
       "    <tr>\n",
       "      <th>5648</th>\n",
       "      <td>A great film! Slow: YES.&lt;br /&gt;&lt;br /&gt;...but ori...</td>\n",
       "      <td>1</td>\n",
       "    </tr>\n",
       "    <tr>\n",
       "      <th>21085</th>\n",
       "      <td>I'll say it again: this movie was totally lame...</td>\n",
       "      <td>0</td>\n",
       "    </tr>\n",
       "    <tr>\n",
       "      <th>3394</th>\n",
       "      <td>i just saw this film, i first saw it when i wa...</td>\n",
       "      <td>1</td>\n",
       "    </tr>\n",
       "    <tr>\n",
       "      <th>11097</th>\n",
       "      <td>This is a FUNNY film. It has all the usual Dis...</td>\n",
       "      <td>1</td>\n",
       "    </tr>\n",
       "    <tr>\n",
       "      <th>10266</th>\n",
       "      <td>You know you're in for something different whe...</td>\n",
       "      <td>1</td>\n",
       "    </tr>\n",
       "  </tbody>\n",
       "</table>\n",
       "<p>25000 rows × 2 columns</p>\n",
       "</div>"
      ],
      "text/plain": [
       "                                                    text  target\n",
       "13066  Nathan Detroit runs illegal craps games for hi...       0\n",
       "23981  This was the WORST movie I have ever seen! Mol...       0\n",
       "8670   OK heres what I say: <br /><br />The movie was...       1\n",
       "15734  hello boys and girls... this isn't your regula...       0\n",
       "9082   Lin McAdam (James Stewart) wins a rifle, a Win...       1\n",
       "...                                                  ...     ...\n",
       "5648   A great film! Slow: YES.<br /><br />...but ori...       1\n",
       "21085  I'll say it again: this movie was totally lame...       0\n",
       "3394   i just saw this film, i first saw it when i wa...       1\n",
       "11097  This is a FUNNY film. It has all the usual Dis...       1\n",
       "10266  You know you're in for something different whe...       1\n",
       "\n",
       "[25000 rows x 2 columns]"
      ]
     },
     "execution_count": 16,
     "metadata": {},
     "output_type": "execute_result"
    }
   ],
   "source": [
    "from sklearn.utils import shuffle\n",
    "df = shuffle(df)\n",
    "df"
   ]
  },
  {
   "cell_type": "code",
   "execution_count": null,
   "id": "be55fb0f",
   "metadata": {},
   "outputs": [],
   "source": []
  },
  {
   "cell_type": "code",
   "execution_count": 17,
   "id": "cddd10ff",
   "metadata": {},
   "outputs": [
    {
     "data": {
      "text/html": [
       "<div>\n",
       "<style scoped>\n",
       "    .dataframe tbody tr th:only-of-type {\n",
       "        vertical-align: middle;\n",
       "    }\n",
       "\n",
       "    .dataframe tbody tr th {\n",
       "        vertical-align: top;\n",
       "    }\n",
       "\n",
       "    .dataframe thead th {\n",
       "        text-align: right;\n",
       "    }\n",
       "</style>\n",
       "<table border=\"1\" class=\"dataframe\">\n",
       "  <thead>\n",
       "    <tr style=\"text-align: right;\">\n",
       "      <th></th>\n",
       "      <th>target</th>\n",
       "    </tr>\n",
       "  </thead>\n",
       "  <tbody>\n",
       "    <tr>\n",
       "      <th>count</th>\n",
       "      <td>25000.00000</td>\n",
       "    </tr>\n",
       "    <tr>\n",
       "      <th>mean</th>\n",
       "      <td>0.50000</td>\n",
       "    </tr>\n",
       "    <tr>\n",
       "      <th>std</th>\n",
       "      <td>0.50001</td>\n",
       "    </tr>\n",
       "    <tr>\n",
       "      <th>min</th>\n",
       "      <td>0.00000</td>\n",
       "    </tr>\n",
       "    <tr>\n",
       "      <th>25%</th>\n",
       "      <td>0.00000</td>\n",
       "    </tr>\n",
       "    <tr>\n",
       "      <th>50%</th>\n",
       "      <td>0.50000</td>\n",
       "    </tr>\n",
       "    <tr>\n",
       "      <th>75%</th>\n",
       "      <td>1.00000</td>\n",
       "    </tr>\n",
       "    <tr>\n",
       "      <th>max</th>\n",
       "      <td>1.00000</td>\n",
       "    </tr>\n",
       "  </tbody>\n",
       "</table>\n",
       "</div>"
      ],
      "text/plain": [
       "            target\n",
       "count  25000.00000\n",
       "mean       0.50000\n",
       "std        0.50001\n",
       "min        0.00000\n",
       "25%        0.00000\n",
       "50%        0.50000\n",
       "75%        1.00000\n",
       "max        1.00000"
      ]
     },
     "execution_count": 17,
     "metadata": {},
     "output_type": "execute_result"
    }
   ],
   "source": [
    "df.describe()"
   ]
  },
  {
   "cell_type": "code",
   "execution_count": 18,
   "id": "2b2db7d9",
   "metadata": {},
   "outputs": [
    {
     "data": {
      "text/plain": [
       "text      0\n",
       "target    0\n",
       "dtype: int64"
      ]
     },
     "execution_count": 18,
     "metadata": {},
     "output_type": "execute_result"
    }
   ],
   "source": [
    "df.isnull().sum()"
   ]
  },
  {
   "cell_type": "code",
   "execution_count": 19,
   "id": "70d5cef1",
   "metadata": {},
   "outputs": [],
   "source": [
    "def clean_text(text):\n",
    "    text = text.lower()                                  \n",
    "    text =  re.sub(r'@\\S+', '',text)                     \n",
    "    text =  re.sub(r'http\\S+', '',text)                  \n",
    "    text =  re.sub(r'pic.\\S+', '',text) \n",
    "    text =  re.sub(r\"[^a-zA-Z+']\", ' ',text)             \n",
    "    text = re.sub(r'\\s+[a-zA-Z]\\s+', ' ', text+' ')      \n",
    "    text = \"\".join([i for i in text if i not in string.punctuation])\n",
    "    words = nltk.tokenize.word_tokenize(text)\n",
    "    stopwords = nltk.corpus.stopwords.words('english')  \n",
    "    text = \" \".join([i for i in words if i not in stopwords and len(i)>2])\n",
    "    text= re.sub(\"\\s[\\s]+\", \" \",text).strip()            \n",
    "    return text"
   ]
  },
  {
   "cell_type": "code",
   "execution_count": 20,
   "id": "5546b00d",
   "metadata": {},
   "outputs": [],
   "source": [
    "df['Text_cleaning'] = df.text.apply(clean_text)"
   ]
  },
  {
   "cell_type": "code",
   "execution_count": 21,
   "id": "f99b57de",
   "metadata": {},
   "outputs": [],
   "source": [
    "X = df['Text_cleaning']\n",
    "y = df['target']"
   ]
  },
  {
   "cell_type": "code",
   "execution_count": 22,
   "id": "fb89fe0c",
   "metadata": {},
   "outputs": [],
   "source": [
    "from sklearn.model_selection import train_test_split\n",
    "from sklearn.feature_extraction.text import  CountVectorizer\n",
    "from tensorflow.keras.preprocessing.sequence import pad_sequences\n",
    "from tensorflow.keras.preprocessing.text import Tokenizer\n",
    "from tensorflow.keras.models import Sequential\n",
    "from tensorflow.keras.layers import Embedding, LSTM, Dense, Dropout\n",
    "from tensorflow.keras.callbacks import Callback, EarlyStopping\n",
    "from sklearn.metrics import confusion_matrix, classification_report, accuracy_score"
   ]
  },
  {
   "cell_type": "code",
   "execution_count": 23,
   "id": "cac4beca",
   "metadata": {},
   "outputs": [],
   "source": [
    "X_train, X_test, y_train, y_test = train_test_split(X, y, test_size=0.2, random_state=42)"
   ]
  },
  {
   "cell_type": "code",
   "execution_count": null,
   "id": "85e2ef7f",
   "metadata": {},
   "outputs": [],
   "source": []
  },
  {
   "cell_type": "code",
   "execution_count": 24,
   "id": "01e12db6",
   "metadata": {},
   "outputs": [],
   "source": [
    "h_read_x_test = X_test"
   ]
  },
  {
   "cell_type": "code",
   "execution_count": 25,
   "id": "3e6c679c",
   "metadata": {},
   "outputs": [],
   "source": [
    "def counter_word(text):\n",
    "    count = Counter()\n",
    "    for i in text.values:\n",
    "        for word in i.split():\n",
    "            count[word] += 1\n",
    "    return count\n",
    "\n",
    "text = df['Text_cleaning']\n",
    "counter = counter_word(text)\n",
    "num_words = len(counter)\n",
    "max_len=1000"
   ]
  },
  {
   "cell_type": "code",
   "execution_count": 26,
   "id": "93d7a54d",
   "metadata": {},
   "outputs": [
    {
     "data": {
      "text/plain": [
       "76806"
      ]
     },
     "execution_count": 26,
     "metadata": {},
     "output_type": "execute_result"
    }
   ],
   "source": [
    "num_words"
   ]
  },
  {
   "cell_type": "code",
   "execution_count": 27,
   "id": "9a894ff8",
   "metadata": {},
   "outputs": [],
   "source": [
    "tokenizer = Tokenizer(num_words=num_words)\n",
    "tokenizer.fit_on_texts(X_train)"
   ]
  },
  {
   "cell_type": "code",
   "execution_count": null,
   "id": "f99b3073",
   "metadata": {},
   "outputs": [],
   "source": []
  },
  {
   "cell_type": "code",
   "execution_count": 28,
   "id": "9c2c1ccf",
   "metadata": {},
   "outputs": [],
   "source": [
    "X_train = tokenizer.texts_to_sequences(X_train)\n",
    "train_padded = pad_sequences(X_train,maxlen=max_len, truncating=\"post\")"
   ]
  },
  {
   "cell_type": "code",
   "execution_count": 29,
   "id": "dfa62c43",
   "metadata": {},
   "outputs": [],
   "source": [
    "X_test = tokenizer.texts_to_sequences(X_test)\n",
    "test_padded = pad_sequences(X_test,maxlen=max_len, truncating=\"post\")"
   ]
  },
  {
   "cell_type": "code",
   "execution_count": 30,
   "id": "bd814a12",
   "metadata": {},
   "outputs": [],
   "source": [
    "from tensorflow.keras import regularizers"
   ]
  },
  {
   "cell_type": "code",
   "execution_count": 31,
   "id": "d12fb4ab",
   "metadata": {},
   "outputs": [],
   "source": [
    "model = Sequential()\n",
    "model.add(Embedding(num_words, 32,input_length=max_len))\n",
    "model.add(LSTM(64,return_sequences=True))\n",
    "model.add(Dropout(0.2))\n",
    "model.add(LSTM(64))\n",
    "model.add(Dropout(0.2))\n",
    "model.add(Dense(1, activation='sigmoid',kernel_regularizer=regularizers.l1_l2(0.01)))\n",
    "\n"
   ]
  },
  {
   "cell_type": "code",
   "execution_count": 32,
   "id": "2c76d34a",
   "metadata": {
    "scrolled": true
   },
   "outputs": [],
   "source": [
    "from tensorflow.keras.optimizers import SGD,Adam"
   ]
  },
  {
   "cell_type": "code",
   "execution_count": 33,
   "id": "3bf23070",
   "metadata": {},
   "outputs": [],
   "source": [
    "opt = Adam(learning_rate=0.0001)"
   ]
  },
  {
   "cell_type": "code",
   "execution_count": 34,
   "id": "f246ae4c",
   "metadata": {},
   "outputs": [],
   "source": [
    "model.compile(optimizer=opt, loss=\"binary_crossentropy\", metrics=[\"accuracy\"])"
   ]
  },
  {
   "cell_type": "code",
   "execution_count": 35,
   "id": "d9946125",
   "metadata": {},
   "outputs": [
    {
     "name": "stdout",
     "output_type": "stream",
     "text": [
      "Model: \"sequential\"\n",
      "_________________________________________________________________\n",
      "Layer (type)                 Output Shape              Param #   \n",
      "=================================================================\n",
      "embedding (Embedding)        (None, 1000, 32)          2457792   \n",
      "_________________________________________________________________\n",
      "lstm (LSTM)                  (None, 1000, 64)          24832     \n",
      "_________________________________________________________________\n",
      "dropout (Dropout)            (None, 1000, 64)          0         \n",
      "_________________________________________________________________\n",
      "lstm_1 (LSTM)                (None, 64)                33024     \n",
      "_________________________________________________________________\n",
      "dropout_1 (Dropout)          (None, 64)                0         \n",
      "_________________________________________________________________\n",
      "dense (Dense)                (None, 1)                 65        \n",
      "=================================================================\n",
      "Total params: 2,515,713\n",
      "Trainable params: 2,515,713\n",
      "Non-trainable params: 0\n",
      "_________________________________________________________________\n"
     ]
    }
   ],
   "source": [
    "model.summary()"
   ]
  },
  {
   "cell_type": "code",
   "execution_count": 36,
   "id": "0e5ba55a",
   "metadata": {},
   "outputs": [
    {
     "name": "stdout",
     "output_type": "stream",
     "text": [
      "Epoch 1/5\n",
      "313/313 [==============================] - 421s 1s/step - loss: 0.7041 - accuracy: 0.6453 - val_loss: 0.5271 - val_accuracy: 0.7892\n",
      "Epoch 2/5\n",
      "313/313 [==============================] - 447s 1s/step - loss: 0.4015 - accuracy: 0.8754 - val_loss: 0.3998 - val_accuracy: 0.8700\n",
      "Epoch 3/5\n",
      "313/313 [==============================] - 453s 1s/step - loss: 0.2898 - accuracy: 0.9259 - val_loss: 0.3857 - val_accuracy: 0.8784\n",
      "Epoch 4/5\n",
      "313/313 [==============================] - 466s 1s/step - loss: 0.2195 - accuracy: 0.9576 - val_loss: 0.4074 - val_accuracy: 0.8728\n",
      "Epoch 5/5\n",
      "313/313 [==============================] - 468s 1s/step - loss: 0.1805 - accuracy: 0.9717 - val_loss: 0.4069 - val_accuracy: 0.8786\n"
     ]
    }
   ],
   "source": [
    "history = model.fit(train_padded, y_train,batch_size=64, epochs=5, validation_data=(test_padded, y_test),verbose=1)"
   ]
  },
  {
   "cell_type": "code",
   "execution_count": 37,
   "id": "ce3ad61f",
   "metadata": {},
   "outputs": [],
   "source": [
    "def save(model):\n",
    "    # Save the trained weights\n",
    "    model.save_weights('model_weights.h5')\n",
    "\n",
    "    # Save the model architecture\n",
    "    with open('model_architecture.json', 'w') as f:\n",
    "        f.write(model.to_json())\n",
    "\n",
    "    # Save the tokenizer\n",
    "    with open('tokenizer.json', 'w') as f:\n",
    "        f.write(tokenizer.to_json())\n"
   ]
  },
  {
   "cell_type": "code",
   "execution_count": 38,
   "id": "61d20c7f",
   "metadata": {},
   "outputs": [],
   "source": [
    "save(model)"
   ]
  },
  {
   "cell_type": "code",
   "execution_count": 39,
   "id": "ca8aa2fd",
   "metadata": {},
   "outputs": [
    {
     "name": "stdout",
     "output_type": "stream",
     "text": [
      "    Test Loss: 0.40688\n",
      "Test Accuracy: 87.86%\n"
     ]
    }
   ],
   "source": [
    "results = model.evaluate(test_padded, y_test, verbose=0)\n",
    "print(\"    Test Loss: {:.5f}\".format(results[0]))\n",
    "print(\"Test Accuracy: {:.2f}%\".format(results[1] * 100))"
   ]
  },
  {
   "cell_type": "code",
   "execution_count": 40,
   "id": "534c6693",
   "metadata": {},
   "outputs": [],
   "source": [
    "y_pred = model.predict(test_padded)\n"
   ]
  },
  {
   "cell_type": "code",
   "execution_count": 41,
   "id": "e1d92946",
   "metadata": {},
   "outputs": [
    {
     "data": {
      "text/plain": [
       "(24258    0\n",
       " 15478    0\n",
       " 1837     1\n",
       " 20589    0\n",
       " 7312     1\n",
       "         ..\n",
       " 18762    0\n",
       " 728      1\n",
       " 17455    0\n",
       " 7068     1\n",
       " 23676    0\n",
       " Name: target, Length: 5000, dtype: int64,\n",
       " array([[0.02749118],\n",
       "        [0.23643184],\n",
       "        [0.9737817 ],\n",
       "        ...,\n",
       "        [0.02867791],\n",
       "        [0.41713867],\n",
       "        [0.6552831 ]], dtype=float32))"
      ]
     },
     "execution_count": 41,
     "metadata": {},
     "output_type": "execute_result"
    }
   ],
   "source": [
    "y_test,y_pred"
   ]
  },
  {
   "cell_type": "code",
   "execution_count": 42,
   "id": "fc46cd26",
   "metadata": {},
   "outputs": [
    {
     "data": {
      "image/png": "[encoded data removed]",
      "text/plain": [
       "<Figure size 720x216 with 2 Axes>"
      ]
     },
     "metadata": {
      "needs_background": "light"
     },
     "output_type": "display_data"
    }
   ],
   "source": [
    "fig, ax = plt.subplots(1, 2, figsize=(10, 3))\n",
    "ax = ax.ravel()\n",
    "\n",
    "for i, met in enumerate(['accuracy', 'loss']):\n",
    "    ax[i].plot(history.history[met])\n",
    "    ax[i].plot(history.history['val_' + met])\n",
    "    ax[i].set_title('Model {}'.format(met))\n",
    "    ax[i].set_xlabel('epochs')\n",
    "    ax[i].set_ylabel(met)\n",
    "    ax[i].legend(['train', 'val']) "
   ]
  },
  {
   "cell_type": "code",
   "execution_count": 43,
   "id": "0182e7d3",
   "metadata": {},
   "outputs": [
    {
     "data": {
      "text/plain": [
       "(5000, 5000)"
      ]
     },
     "execution_count": 43,
     "metadata": {},
     "output_type": "execute_result"
    }
   ],
   "source": [
    "len(X_test),len(test_padded)"
   ]
  },
  {
   "cell_type": "code",
   "execution_count": 44,
   "id": "081dcb06",
   "metadata": {},
   "outputs": [
    {
     "data": {
      "text/plain": [
       "24258    terrible dont want negative film stupid monkey...\n",
       "15478    flipping channels late saturday night friends ...\n",
       "1837     agree comment love realism many movies movies ...\n",
       "20589    okay know millions americans believe rapture m...\n",
       "7312     watched sky missed first half hour wonder true...\n",
       "                               ...                        \n",
       "18762    going say first given film thought going give ...\n",
       "728      great barbara stanwyck film happened see night...\n",
       "17455    adam sandler without doubt one idiotic films e...\n",
       "7068     anyone know kind john drove looks like mid lat...\n",
       "23676    garson kanin wrote directed look modern day la...\n",
       "Name: Text_cleaning, Length: 5000, dtype: object"
      ]
     },
     "execution_count": 44,
     "metadata": {},
     "output_type": "execute_result"
    }
   ],
   "source": [
    "h_read_x_test"
   ]
  },
  {
   "cell_type": "code",
   "execution_count": 45,
   "id": "573ea419",
   "metadata": {},
   "outputs": [],
   "source": [
    "y_pred_reshaped = y_pred.reshape(-1)"
   ]
  },
  {
   "cell_type": "code",
   "execution_count": 56,
   "id": "84f8bcaa",
   "metadata": {},
   "outputs": [],
   "source": [
    "df = pd.DataFrame({\n",
    "    'Test_set': h_read_x_test,\n",
    "    'Actual Values': y_test,\n",
    "    'Predicted Values': y_pred_reshaped,\n",
    "})"
   ]
  },
  {
   "cell_type": "code",
   "execution_count": 57,
   "id": "f8acf5fd",
   "metadata": {},
   "outputs": [
    {
     "data": {
      "text/html": [
       "<div>\n",
       "<style scoped>\n",
       "    .dataframe tbody tr th:only-of-type {\n",
       "        vertical-align: middle;\n",
       "    }\n",
       "\n",
       "    .dataframe tbody tr th {\n",
       "        vertical-align: top;\n",
       "    }\n",
       "\n",
       "    .dataframe thead th {\n",
       "        text-align: right;\n",
       "    }\n",
       "</style>\n",
       "<table border=\"1\" class=\"dataframe\">\n",
       "  <thead>\n",
       "    <tr style=\"text-align: right;\">\n",
       "      <th></th>\n",
       "      <th>Test_set</th>\n",
       "      <th>Actual Values</th>\n",
       "      <th>Predicted Values</th>\n",
       "    </tr>\n",
       "  </thead>\n",
       "  <tbody>\n",
       "    <tr>\n",
       "      <th>24258</th>\n",
       "      <td>terrible dont want negative film stupid monkey...</td>\n",
       "      <td>0</td>\n",
       "      <td>0.027491</td>\n",
       "    </tr>\n",
       "    <tr>\n",
       "      <th>15478</th>\n",
       "      <td>flipping channels late saturday night friends ...</td>\n",
       "      <td>0</td>\n",
       "      <td>0.236432</td>\n",
       "    </tr>\n",
       "    <tr>\n",
       "      <th>1837</th>\n",
       "      <td>agree comment love realism many movies movies ...</td>\n",
       "      <td>1</td>\n",
       "      <td>0.973782</td>\n",
       "    </tr>\n",
       "    <tr>\n",
       "      <th>20589</th>\n",
       "      <td>okay know millions americans believe rapture m...</td>\n",
       "      <td>0</td>\n",
       "      <td>0.027304</td>\n",
       "    </tr>\n",
       "    <tr>\n",
       "      <th>7312</th>\n",
       "      <td>watched sky missed first half hour wonder true...</td>\n",
       "      <td>1</td>\n",
       "      <td>0.292472</td>\n",
       "    </tr>\n",
       "    <tr>\n",
       "      <th>...</th>\n",
       "      <td>...</td>\n",
       "      <td>...</td>\n",
       "      <td>...</td>\n",
       "    </tr>\n",
       "    <tr>\n",
       "      <th>18762</th>\n",
       "      <td>going say first given film thought going give ...</td>\n",
       "      <td>0</td>\n",
       "      <td>0.025793</td>\n",
       "    </tr>\n",
       "    <tr>\n",
       "      <th>728</th>\n",
       "      <td>great barbara stanwyck film happened see night...</td>\n",
       "      <td>1</td>\n",
       "      <td>0.975238</td>\n",
       "    </tr>\n",
       "    <tr>\n",
       "      <th>17455</th>\n",
       "      <td>adam sandler without doubt one idiotic films e...</td>\n",
       "      <td>0</td>\n",
       "      <td>0.028678</td>\n",
       "    </tr>\n",
       "    <tr>\n",
       "      <th>7068</th>\n",
       "      <td>anyone know kind john drove looks like mid lat...</td>\n",
       "      <td>1</td>\n",
       "      <td>0.417139</td>\n",
       "    </tr>\n",
       "    <tr>\n",
       "      <th>23676</th>\n",
       "      <td>garson kanin wrote directed look modern day la...</td>\n",
       "      <td>0</td>\n",
       "      <td>0.655283</td>\n",
       "    </tr>\n",
       "  </tbody>\n",
       "</table>\n",
       "<p>5000 rows × 3 columns</p>\n",
       "</div>"
      ],
      "text/plain": [
       "                                                Test_set  Actual Values  \\\n",
       "24258  terrible dont want negative film stupid monkey...              0   \n",
       "15478  flipping channels late saturday night friends ...              0   \n",
       "1837   agree comment love realism many movies movies ...              1   \n",
       "20589  okay know millions americans believe rapture m...              0   \n",
       "7312   watched sky missed first half hour wonder true...              1   \n",
       "...                                                  ...            ...   \n",
       "18762  going say first given film thought going give ...              0   \n",
       "728    great barbara stanwyck film happened see night...              1   \n",
       "17455  adam sandler without doubt one idiotic films e...              0   \n",
       "7068   anyone know kind john drove looks like mid lat...              1   \n",
       "23676  garson kanin wrote directed look modern day la...              0   \n",
       "\n",
       "       Predicted Values  \n",
       "24258          0.027491  \n",
       "15478          0.236432  \n",
       "1837           0.973782  \n",
       "20589          0.027304  \n",
       "7312           0.292472  \n",
       "...                 ...  \n",
       "18762          0.025793  \n",
       "728            0.975238  \n",
       "17455          0.028678  \n",
       "7068           0.417139  \n",
       "23676          0.655283  \n",
       "\n",
       "[5000 rows x 3 columns]"
      ]
     },
     "execution_count": 57,
     "metadata": {},
     "output_type": "execute_result"
    }
   ],
   "source": [
    "df"
   ]
  },
  {
   "cell_type": "code",
   "execution_count": 58,
   "id": "7828c9ab",
   "metadata": {},
   "outputs": [
    {
     "data": {
      "text/html": [
       "<div>\n",
       "<style scoped>\n",
       "    .dataframe tbody tr th:only-of-type {\n",
       "        vertical-align: middle;\n",
       "    }\n",
       "\n",
       "    .dataframe tbody tr th {\n",
       "        vertical-align: top;\n",
       "    }\n",
       "\n",
       "    .dataframe thead th {\n",
       "        text-align: right;\n",
       "    }\n",
       "</style>\n",
       "<table border=\"1\" class=\"dataframe\">\n",
       "  <thead>\n",
       "    <tr style=\"text-align: right;\">\n",
       "      <th></th>\n",
       "      <th>Test_set</th>\n",
       "      <th>Actual Values</th>\n",
       "      <th>Predicted Values</th>\n",
       "    </tr>\n",
       "  </thead>\n",
       "  <tbody>\n",
       "    <tr>\n",
       "      <th>24258</th>\n",
       "      <td>terrible dont want negative film stupid monkey...</td>\n",
       "      <td>0</td>\n",
       "      <td>0</td>\n",
       "    </tr>\n",
       "    <tr>\n",
       "      <th>15478</th>\n",
       "      <td>flipping channels late saturday night friends ...</td>\n",
       "      <td>0</td>\n",
       "      <td>0</td>\n",
       "    </tr>\n",
       "    <tr>\n",
       "      <th>1837</th>\n",
       "      <td>agree comment love realism many movies movies ...</td>\n",
       "      <td>1</td>\n",
       "      <td>1</td>\n",
       "    </tr>\n",
       "    <tr>\n",
       "      <th>20589</th>\n",
       "      <td>okay know millions americans believe rapture m...</td>\n",
       "      <td>0</td>\n",
       "      <td>0</td>\n",
       "    </tr>\n",
       "    <tr>\n",
       "      <th>7312</th>\n",
       "      <td>watched sky missed first half hour wonder true...</td>\n",
       "      <td>1</td>\n",
       "      <td>0</td>\n",
       "    </tr>\n",
       "    <tr>\n",
       "      <th>...</th>\n",
       "      <td>...</td>\n",
       "      <td>...</td>\n",
       "      <td>...</td>\n",
       "    </tr>\n",
       "    <tr>\n",
       "      <th>18762</th>\n",
       "      <td>going say first given film thought going give ...</td>\n",
       "      <td>0</td>\n",
       "      <td>0</td>\n",
       "    </tr>\n",
       "    <tr>\n",
       "      <th>728</th>\n",
       "      <td>great barbara stanwyck film happened see night...</td>\n",
       "      <td>1</td>\n",
       "      <td>1</td>\n",
       "    </tr>\n",
       "    <tr>\n",
       "      <th>17455</th>\n",
       "      <td>adam sandler without doubt one idiotic films e...</td>\n",
       "      <td>0</td>\n",
       "      <td>0</td>\n",
       "    </tr>\n",
       "    <tr>\n",
       "      <th>7068</th>\n",
       "      <td>anyone know kind john drove looks like mid lat...</td>\n",
       "      <td>1</td>\n",
       "      <td>0</td>\n",
       "    </tr>\n",
       "    <tr>\n",
       "      <th>23676</th>\n",
       "      <td>garson kanin wrote directed look modern day la...</td>\n",
       "      <td>0</td>\n",
       "      <td>1</td>\n",
       "    </tr>\n",
       "  </tbody>\n",
       "</table>\n",
       "<p>5000 rows × 3 columns</p>\n",
       "</div>"
      ],
      "text/plain": [
       "                                                Test_set  Actual Values  \\\n",
       "24258  terrible dont want negative film stupid monkey...              0   \n",
       "15478  flipping channels late saturday night friends ...              0   \n",
       "1837   agree comment love realism many movies movies ...              1   \n",
       "20589  okay know millions americans believe rapture m...              0   \n",
       "7312   watched sky missed first half hour wonder true...              1   \n",
       "...                                                  ...            ...   \n",
       "18762  going say first given film thought going give ...              0   \n",
       "728    great barbara stanwyck film happened see night...              1   \n",
       "17455  adam sandler without doubt one idiotic films e...              0   \n",
       "7068   anyone know kind john drove looks like mid lat...              1   \n",
       "23676  garson kanin wrote directed look modern day la...              0   \n",
       "\n",
       "       Predicted Values  \n",
       "24258                 0  \n",
       "15478                 0  \n",
       "1837                  1  \n",
       "20589                 0  \n",
       "7312                  0  \n",
       "...                 ...  \n",
       "18762                 0  \n",
       "728                   1  \n",
       "17455                 0  \n",
       "7068                  0  \n",
       "23676                 1  \n",
       "\n",
       "[5000 rows x 3 columns]"
      ]
     },
     "execution_count": 58,
     "metadata": {},
     "output_type": "execute_result"
    }
   ],
   "source": [
    "df['Predicted Values'] = df['Predicted Values'].apply(lambda x: 0 if x<0.65 else 1)\n",
    "df"
   ]
  },
  {
   "cell_type": "code",
   "execution_count": 59,
   "id": "a5019574",
   "metadata": {},
   "outputs": [],
   "source": [
    "df.to_csv(\"predicted_dataframe.csv\")"
   ]
  },
  {
   "cell_type": "code",
   "execution_count": 73,
   "id": "0e4cd9bb",
   "metadata": {},
   "outputs": [],
   "source": [
    "TP = 2132\n",
    "FP = 229\n",
    "FN = 398\n",
    "TN = 2241"
   ]
  },
  {
   "cell_type": "code",
   "execution_count": 76,
   "id": "018447b1",
   "metadata": {},
   "outputs": [
    {
     "data": {
      "text/plain": [
       "90.30072003388395"
      ]
     },
     "execution_count": 76,
     "metadata": {},
     "output_type": "execute_result"
    }
   ],
   "source": [
    "precision = TP/(TP+FP)  \n",
    "precision*100"
   ]
  },
  {
   "cell_type": "code",
   "execution_count": 77,
   "id": "95424264",
   "metadata": {},
   "outputs": [
    {
     "data": {
      "text/plain": [
       "84.26877470355731"
      ]
     },
     "execution_count": 77,
     "metadata": {},
     "output_type": "execute_result"
    }
   ],
   "source": [
    "recall = TP/(TP+FN)\n",
    "recall*100"
   ]
  },
  {
   "cell_type": "markdown",
   "id": "81e6e0ac",
   "metadata": {},
   "source": [
    "### F1-score is a measure of a model’s accuracy on a dataset\n"
   ]
  },
  {
   "cell_type": "code",
   "execution_count": 78,
   "id": "4436f9a0",
   "metadata": {},
   "outputs": [
    {
     "data": {
      "text/plain": [
       "0.8718053567777551"
      ]
     },
     "execution_count": 78,
     "metadata": {},
     "output_type": "execute_result"
    }
   ],
   "source": [
    "f1_score = (2 * precision * recall) / (precision + recall)\n",
    "\n",
    "f1_score\n"
   ]
  }
 ],
 "metadata": {
  "kernelspec": {
   "display_name": "Python 3",
   "language": "python",
   "name": "python3"
  },
  "language_info": {
   "codemirror_mode": {
    "name": "ipython",
    "version": 3
   },
   "file_extension": ".py",
   "mimetype": "text/x-python",
   "name": "python",
   "nbconvert_exporter": "python",
   "pygments_lexer": "ipython3",
   "version": "3.7.10"
  }
 },
 "nbformat": 4,
 "nbformat_minor": 5
}
